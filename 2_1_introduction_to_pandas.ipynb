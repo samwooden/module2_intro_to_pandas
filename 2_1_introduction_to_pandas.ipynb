{
 "cells": [
  {
   "cell_type": "markdown",
   "metadata": {
    "slideshow": {
     "slide_type": "slide"
    }
   },
   "source": [
    "# Introduction to Pandas"
   ]
  },
  {
   "cell_type": "markdown",
   "metadata": {
    "slideshow": {
     "slide_type": "slide"
    }
   },
   "source": [
    "## Pandas provides Python data frames\n",
    "\n",
    "* Popular and established\n",
    "* Inspired by R dataframes\n",
    "* Built on `numpy` for fast computation"
   ]
  },
  {
   "cell_type": "code",
   "execution_count": 1,
   "metadata": {
    "slideshow": {
     "slide_type": "fragment"
    }
   },
   "outputs": [],
   "source": [
    "import pandas as pd"
   ]
  },
  {
   "cell_type": "markdown",
   "metadata": {
    "slideshow": {
     "slide_type": "slide"
    }
   },
   "source": [
    "## Our first dataframe"
   ]
  },
  {
   "cell_type": "code",
   "execution_count": 2,
   "metadata": {
    "scrolled": true,
    "slideshow": {
     "slide_type": "fragment"
    }
   },
   "outputs": [
    {
     "data": {
      "text/html": [
       "<div>\n",
       "<style scoped>\n",
       "    .dataframe tbody tr th:only-of-type {\n",
       "        vertical-align: middle;\n",
       "    }\n",
       "\n",
       "    .dataframe tbody tr th {\n",
       "        vertical-align: top;\n",
       "    }\n",
       "\n",
       "    .dataframe thead th {\n",
       "        text-align: right;\n",
       "    }\n",
       "</style>\n",
       "<table border=\"1\" class=\"dataframe\">\n",
       "  <thead>\n",
       "    <tr style=\"text-align: right;\">\n",
       "      <th></th>\n",
       "      <th>Names</th>\n",
       "      <th>Python_mastery</th>\n",
       "      <th>Love_of_R</th>\n",
       "      <th>years_at_wsu</th>\n",
       "    </tr>\n",
       "  </thead>\n",
       "  <tbody>\n",
       "    <tr>\n",
       "      <th>0</th>\n",
       "      <td>Iverson</td>\n",
       "      <td>10.0</td>\n",
       "      <td>2</td>\n",
       "      <td>4</td>\n",
       "    </tr>\n",
       "    <tr>\n",
       "      <th>1</th>\n",
       "      <td>Malone</td>\n",
       "      <td>5.0</td>\n",
       "      <td>5</td>\n",
       "      <td>17</td>\n",
       "    </tr>\n",
       "    <tr>\n",
       "      <th>2</th>\n",
       "      <td>Bergen</td>\n",
       "      <td>1.0</td>\n",
       "      <td>11</td>\n",
       "      <td>5</td>\n",
       "    </tr>\n",
       "  </tbody>\n",
       "</table>\n",
       "</div>"
      ],
      "text/plain": [
       "     Names  Python_mastery  Love_of_R  years_at_wsu\n",
       "0  Iverson            10.0          2             4\n",
       "1   Malone             5.0          5            17\n",
       "2   Bergen             1.0         11             5"
      ]
     },
     "execution_count": 2,
     "metadata": {},
     "output_type": "execute_result"
    }
   ],
   "source": [
    "df = pd.DataFrame({\"Names\": [\"Iverson\", \"Malone\", \"Bergen\"],\n",
    "                   \"Python_mastery\": [10, 5, 1.0],\n",
    "                   \"Love_of_R\": [2, 5, 11],\n",
    "                   \"years_at_wsu\": [4, 17, 5]})\n",
    "df.head()"
   ]
  },
  {
   "cell_type": "markdown",
   "metadata": {
    "slideshow": {
     "slide_type": "slide"
    }
   },
   "source": [
    "## Reading from a csv\n",
    "\n",
    "* Most data sets will be read in from a csv or JSON data file\n",
    "* `Pandas` provides `read_csv` and `read_json`"
   ]
  },
  {
   "cell_type": "markdown",
   "metadata": {
    "slideshow": {
     "slide_type": "slide"
    }
   },
   "source": [
    "### Open a local file w/ relative path"
   ]
  },
  {
   "cell_type": "code",
   "execution_count": 3,
   "metadata": {},
   "outputs": [
    {
     "data": {
      "text/html": [
       "<div>\n",
       "<style scoped>\n",
       "    .dataframe tbody tr th:only-of-type {\n",
       "        vertical-align: middle;\n",
       "    }\n",
       "\n",
       "    .dataframe tbody tr th {\n",
       "        vertical-align: top;\n",
       "    }\n",
       "\n",
       "    .dataframe thead th {\n",
       "        text-align: right;\n",
       "    }\n",
       "</style>\n",
       "<table border=\"1\" class=\"dataframe\">\n",
       "  <thead>\n",
       "    <tr style=\"text-align: right;\">\n",
       "      <th></th>\n",
       "      <th>ConstituentID</th>\n",
       "      <th>DisplayName</th>\n",
       "      <th>ArtistBio</th>\n",
       "      <th>Nationality</th>\n",
       "      <th>Gender</th>\n",
       "      <th>BeginDate</th>\n",
       "      <th>EndDate</th>\n",
       "      <th>Wiki QID</th>\n",
       "      <th>ULAN</th>\n",
       "    </tr>\n",
       "  </thead>\n",
       "  <tbody>\n",
       "    <tr>\n",
       "      <th>0</th>\n",
       "      <td>1</td>\n",
       "      <td>Robert Arneson</td>\n",
       "      <td>American, 1930–1992</td>\n",
       "      <td>American</td>\n",
       "      <td>Male</td>\n",
       "      <td>1930</td>\n",
       "      <td>1992</td>\n",
       "      <td>NaN</td>\n",
       "      <td>NaN</td>\n",
       "    </tr>\n",
       "    <tr>\n",
       "      <th>1</th>\n",
       "      <td>2</td>\n",
       "      <td>Doroteo Arnaiz</td>\n",
       "      <td>Spanish, born 1936</td>\n",
       "      <td>Spanish</td>\n",
       "      <td>Male</td>\n",
       "      <td>1936</td>\n",
       "      <td>0</td>\n",
       "      <td>NaN</td>\n",
       "      <td>NaN</td>\n",
       "    </tr>\n",
       "    <tr>\n",
       "      <th>2</th>\n",
       "      <td>3</td>\n",
       "      <td>Bill Arnold</td>\n",
       "      <td>American, born 1941</td>\n",
       "      <td>American</td>\n",
       "      <td>Male</td>\n",
       "      <td>1941</td>\n",
       "      <td>0</td>\n",
       "      <td>NaN</td>\n",
       "      <td>NaN</td>\n",
       "    </tr>\n",
       "    <tr>\n",
       "      <th>3</th>\n",
       "      <td>4</td>\n",
       "      <td>Charles Arnoldi</td>\n",
       "      <td>American, born 1946</td>\n",
       "      <td>American</td>\n",
       "      <td>Male</td>\n",
       "      <td>1946</td>\n",
       "      <td>0</td>\n",
       "      <td>Q1063584</td>\n",
       "      <td>500027998.0</td>\n",
       "    </tr>\n",
       "    <tr>\n",
       "      <th>4</th>\n",
       "      <td>5</td>\n",
       "      <td>Per Arnoldi</td>\n",
       "      <td>Danish, born 1941</td>\n",
       "      <td>Danish</td>\n",
       "      <td>Male</td>\n",
       "      <td>1941</td>\n",
       "      <td>0</td>\n",
       "      <td>NaN</td>\n",
       "      <td>NaN</td>\n",
       "    </tr>\n",
       "  </tbody>\n",
       "</table>\n",
       "</div>"
      ],
      "text/plain": [
       "   ConstituentID      DisplayName            ArtistBio Nationality Gender  \\\n",
       "0              1   Robert Arneson  American, 1930–1992    American   Male   \n",
       "1              2   Doroteo Arnaiz   Spanish, born 1936     Spanish   Male   \n",
       "2              3      Bill Arnold  American, born 1941    American   Male   \n",
       "3              4  Charles Arnoldi  American, born 1946    American   Male   \n",
       "4              5      Per Arnoldi    Danish, born 1941      Danish   Male   \n",
       "\n",
       "   BeginDate  EndDate  Wiki QID         ULAN  \n",
       "0       1930     1992       NaN          NaN  \n",
       "1       1936        0       NaN          NaN  \n",
       "2       1941        0       NaN          NaN  \n",
       "3       1946        0  Q1063584  500027998.0  \n",
       "4       1941        0       NaN          NaN  "
      ]
     },
     "execution_count": 3,
     "metadata": {},
     "output_type": "execute_result"
    }
   ],
   "source": [
    "# Won't work in colab\n",
    "artists = pd.read_csv('./data/Artists.csv')\n",
    "artists.head()"
   ]
  },
  {
   "cell_type": "markdown",
   "metadata": {
    "slideshow": {
     "slide_type": "slide"
    }
   },
   "source": [
    "### Open a web address"
   ]
  },
  {
   "cell_type": "code",
   "execution_count": 4,
   "metadata": {
    "slideshow": {
     "slide_type": "fragment"
    }
   },
   "outputs": [
    {
     "data": {
      "text/html": [
       "<div>\n",
       "<style scoped>\n",
       "    .dataframe tbody tr th:only-of-type {\n",
       "        vertical-align: middle;\n",
       "    }\n",
       "\n",
       "    .dataframe tbody tr th {\n",
       "        vertical-align: top;\n",
       "    }\n",
       "\n",
       "    .dataframe thead th {\n",
       "        text-align: right;\n",
       "    }\n",
       "</style>\n",
       "<table border=\"1\" class=\"dataframe\">\n",
       "  <thead>\n",
       "    <tr style=\"text-align: right;\">\n",
       "      <th></th>\n",
       "      <th>ConstituentID</th>\n",
       "      <th>DisplayName</th>\n",
       "      <th>ArtistBio</th>\n",
       "      <th>Nationality</th>\n",
       "      <th>Gender</th>\n",
       "      <th>BeginDate</th>\n",
       "      <th>EndDate</th>\n",
       "      <th>Wiki QID</th>\n",
       "      <th>ULAN</th>\n",
       "    </tr>\n",
       "  </thead>\n",
       "  <tbody>\n",
       "    <tr>\n",
       "      <th>0</th>\n",
       "      <td>1</td>\n",
       "      <td>Robert Arneson</td>\n",
       "      <td>American, 1930–1992</td>\n",
       "      <td>American</td>\n",
       "      <td>Male</td>\n",
       "      <td>1930</td>\n",
       "      <td>1992</td>\n",
       "      <td>NaN</td>\n",
       "      <td>NaN</td>\n",
       "    </tr>\n",
       "    <tr>\n",
       "      <th>1</th>\n",
       "      <td>2</td>\n",
       "      <td>Doroteo Arnaiz</td>\n",
       "      <td>Spanish, born 1936</td>\n",
       "      <td>Spanish</td>\n",
       "      <td>Male</td>\n",
       "      <td>1936</td>\n",
       "      <td>0</td>\n",
       "      <td>NaN</td>\n",
       "      <td>NaN</td>\n",
       "    </tr>\n",
       "    <tr>\n",
       "      <th>2</th>\n",
       "      <td>3</td>\n",
       "      <td>Bill Arnold</td>\n",
       "      <td>American, born 1941</td>\n",
       "      <td>American</td>\n",
       "      <td>Male</td>\n",
       "      <td>1941</td>\n",
       "      <td>0</td>\n",
       "      <td>NaN</td>\n",
       "      <td>NaN</td>\n",
       "    </tr>\n",
       "    <tr>\n",
       "      <th>3</th>\n",
       "      <td>4</td>\n",
       "      <td>Charles Arnoldi</td>\n",
       "      <td>American, born 1946</td>\n",
       "      <td>American</td>\n",
       "      <td>Male</td>\n",
       "      <td>1946</td>\n",
       "      <td>0</td>\n",
       "      <td>Q1063584</td>\n",
       "      <td>500027998.0</td>\n",
       "    </tr>\n",
       "    <tr>\n",
       "      <th>4</th>\n",
       "      <td>5</td>\n",
       "      <td>Per Arnoldi</td>\n",
       "      <td>Danish, born 1941</td>\n",
       "      <td>Danish</td>\n",
       "      <td>Male</td>\n",
       "      <td>1941</td>\n",
       "      <td>0</td>\n",
       "      <td>NaN</td>\n",
       "      <td>NaN</td>\n",
       "    </tr>\n",
       "  </tbody>\n",
       "</table>\n",
       "</div>"
      ],
      "text/plain": [
       "   ConstituentID      DisplayName            ArtistBio Nationality Gender  \\\n",
       "0              1   Robert Arneson  American, 1930–1992    American   Male   \n",
       "1              2   Doroteo Arnaiz   Spanish, born 1936     Spanish   Male   \n",
       "2              3      Bill Arnold  American, born 1941    American   Male   \n",
       "3              4  Charles Arnoldi  American, born 1946    American   Male   \n",
       "4              5      Per Arnoldi    Danish, born 1941      Danish   Male   \n",
       "\n",
       "   BeginDate  EndDate  Wiki QID         ULAN  \n",
       "0       1930     1992       NaN          NaN  \n",
       "1       1936        0       NaN          NaN  \n",
       "2       1941        0       NaN          NaN  \n",
       "3       1946        0  Q1063584  500027998.0  \n",
       "4       1941        0       NaN          NaN  "
      ]
     },
     "execution_count": 4,
     "metadata": {},
     "output_type": "execute_result"
    }
   ],
   "source": [
    "url = \"https://github.com/MuseumofModernArt/collection/raw/master/Artists.csv\"\n",
    "artists =  pd.read_csv(url)\n",
    "artists.head()"
   ]
  },
  {
   "cell_type": "markdown",
   "metadata": {
    "slideshow": {
     "slide_type": "slide"
    }
   },
   "source": [
    "# JSON data file\n",
    "\n",
    "* Another (more modern) storage\n",
    "* Here the data is stored in row `dict`"
   ]
  },
  {
   "cell_type": "markdown",
   "metadata": {
    "slideshow": {
     "slide_type": "slide"
    }
   },
   "source": [
    "```{json}\n",
    "[\n",
    "{\n",
    "  \"ConstituentID\": 1,\n",
    "  \"DisplayName\": \"Robert Arneson\",\n",
    "  \"ArtistBio\": \"American, 1930–1992\",\n",
    "  \"Nationality\": \"American\",\n",
    "  \"Gender\": \"Male\",\n",
    "  \"BeginDate\": 1930,\n",
    "  \"EndDate\": 1992,\n",
    "  \"Wiki QID\": null,\n",
    "  \"ULAN\": null\n",
    "},\n",
    "{\n",
    "  \"ConstituentID\": 2,\n",
    "  \"DisplayName\": \"Doroteo Arnaiz\",\n",
    "  \"ArtistBio\": \"Spanish, born 1936\",\n",
    "  \"Nationality\": \"Spanish\",\n",
    "  \"Gender\": \"Male\",\n",
    "  \"BeginDate\": 1936,\n",
    "  \"EndDate\": 0,\n",
    "  \"Wiki QID\": null,\n",
    "  \"ULAN\": null\n",
    "},\n",
    "...\n",
    "```"
   ]
  },
  {
   "cell_type": "markdown",
   "metadata": {},
   "source": [
    "## `pandas` can read `json` data"
   ]
  },
  {
   "cell_type": "code",
   "execution_count": 5,
   "metadata": {
    "slideshow": {
     "slide_type": "fragment"
    }
   },
   "outputs": [
    {
     "data": {
      "text/html": [
       "<div>\n",
       "<style scoped>\n",
       "    .dataframe tbody tr th:only-of-type {\n",
       "        vertical-align: middle;\n",
       "    }\n",
       "\n",
       "    .dataframe tbody tr th {\n",
       "        vertical-align: top;\n",
       "    }\n",
       "\n",
       "    .dataframe thead th {\n",
       "        text-align: right;\n",
       "    }\n",
       "</style>\n",
       "<table border=\"1\" class=\"dataframe\">\n",
       "  <thead>\n",
       "    <tr style=\"text-align: right;\">\n",
       "      <th></th>\n",
       "      <th>ConstituentID</th>\n",
       "      <th>DisplayName</th>\n",
       "      <th>ArtistBio</th>\n",
       "      <th>Nationality</th>\n",
       "      <th>Gender</th>\n",
       "      <th>BeginDate</th>\n",
       "      <th>EndDate</th>\n",
       "      <th>Wiki QID</th>\n",
       "      <th>ULAN</th>\n",
       "    </tr>\n",
       "  </thead>\n",
       "  <tbody>\n",
       "    <tr>\n",
       "      <th>0</th>\n",
       "      <td>1</td>\n",
       "      <td>Robert Arneson</td>\n",
       "      <td>American, 1930–1992</td>\n",
       "      <td>American</td>\n",
       "      <td>Male</td>\n",
       "      <td>1930</td>\n",
       "      <td>1992</td>\n",
       "      <td>None</td>\n",
       "      <td>NaN</td>\n",
       "    </tr>\n",
       "    <tr>\n",
       "      <th>1</th>\n",
       "      <td>2</td>\n",
       "      <td>Doroteo Arnaiz</td>\n",
       "      <td>Spanish, born 1936</td>\n",
       "      <td>Spanish</td>\n",
       "      <td>Male</td>\n",
       "      <td>1936</td>\n",
       "      <td>0</td>\n",
       "      <td>None</td>\n",
       "      <td>NaN</td>\n",
       "    </tr>\n",
       "    <tr>\n",
       "      <th>2</th>\n",
       "      <td>3</td>\n",
       "      <td>Bill Arnold</td>\n",
       "      <td>American, born 1941</td>\n",
       "      <td>American</td>\n",
       "      <td>Male</td>\n",
       "      <td>1941</td>\n",
       "      <td>0</td>\n",
       "      <td>None</td>\n",
       "      <td>NaN</td>\n",
       "    </tr>\n",
       "    <tr>\n",
       "      <th>3</th>\n",
       "      <td>4</td>\n",
       "      <td>Charles Arnoldi</td>\n",
       "      <td>American, born 1946</td>\n",
       "      <td>American</td>\n",
       "      <td>Male</td>\n",
       "      <td>1946</td>\n",
       "      <td>0</td>\n",
       "      <td>Q1063584</td>\n",
       "      <td>500027998.0</td>\n",
       "    </tr>\n",
       "    <tr>\n",
       "      <th>4</th>\n",
       "      <td>5</td>\n",
       "      <td>Per Arnoldi</td>\n",
       "      <td>Danish, born 1941</td>\n",
       "      <td>Danish</td>\n",
       "      <td>Male</td>\n",
       "      <td>1941</td>\n",
       "      <td>0</td>\n",
       "      <td>None</td>\n",
       "      <td>NaN</td>\n",
       "    </tr>\n",
       "  </tbody>\n",
       "</table>\n",
       "</div>"
      ],
      "text/plain": [
       "   ConstituentID      DisplayName            ArtistBio Nationality Gender  \\\n",
       "0              1   Robert Arneson  American, 1930–1992    American   Male   \n",
       "1              2   Doroteo Arnaiz   Spanish, born 1936     Spanish   Male   \n",
       "2              3      Bill Arnold  American, born 1941    American   Male   \n",
       "3              4  Charles Arnoldi  American, born 1946    American   Male   \n",
       "4              5      Per Arnoldi    Danish, born 1941      Danish   Male   \n",
       "\n",
       "   BeginDate  EndDate  Wiki QID         ULAN  \n",
       "0       1930     1992      None          NaN  \n",
       "1       1936        0      None          NaN  \n",
       "2       1941        0      None          NaN  \n",
       "3       1946        0  Q1063584  500027998.0  \n",
       "4       1941        0      None          NaN  "
      ]
     },
     "execution_count": 5,
     "metadata": {},
     "output_type": "execute_result"
    }
   ],
   "source": [
    "# Won't work in colab\n",
    "artists =  pd.read_json('./data/Artists.json')\n",
    "artists.head()"
   ]
  },
  {
   "cell_type": "code",
   "execution_count": 6,
   "metadata": {
    "slideshow": {
     "slide_type": "fragment"
    }
   },
   "outputs": [
    {
     "data": {
      "text/html": [
       "<div>\n",
       "<style scoped>\n",
       "    .dataframe tbody tr th:only-of-type {\n",
       "        vertical-align: middle;\n",
       "    }\n",
       "\n",
       "    .dataframe tbody tr th {\n",
       "        vertical-align: top;\n",
       "    }\n",
       "\n",
       "    .dataframe thead th {\n",
       "        text-align: right;\n",
       "    }\n",
       "</style>\n",
       "<table border=\"1\" class=\"dataframe\">\n",
       "  <thead>\n",
       "    <tr style=\"text-align: right;\">\n",
       "      <th></th>\n",
       "      <th>ConstituentID</th>\n",
       "      <th>DisplayName</th>\n",
       "      <th>ArtistBio</th>\n",
       "      <th>Nationality</th>\n",
       "      <th>Gender</th>\n",
       "      <th>BeginDate</th>\n",
       "      <th>EndDate</th>\n",
       "      <th>Wiki QID</th>\n",
       "      <th>ULAN</th>\n",
       "    </tr>\n",
       "  </thead>\n",
       "  <tbody>\n",
       "    <tr>\n",
       "      <th>0</th>\n",
       "      <td>1</td>\n",
       "      <td>Robert Arneson</td>\n",
       "      <td>American, 1930–1992</td>\n",
       "      <td>American</td>\n",
       "      <td>Male</td>\n",
       "      <td>1930</td>\n",
       "      <td>1992</td>\n",
       "      <td>None</td>\n",
       "      <td>NaN</td>\n",
       "    </tr>\n",
       "    <tr>\n",
       "      <th>1</th>\n",
       "      <td>2</td>\n",
       "      <td>Doroteo Arnaiz</td>\n",
       "      <td>Spanish, born 1936</td>\n",
       "      <td>Spanish</td>\n",
       "      <td>Male</td>\n",
       "      <td>1936</td>\n",
       "      <td>0</td>\n",
       "      <td>None</td>\n",
       "      <td>NaN</td>\n",
       "    </tr>\n",
       "    <tr>\n",
       "      <th>2</th>\n",
       "      <td>3</td>\n",
       "      <td>Bill Arnold</td>\n",
       "      <td>American, born 1941</td>\n",
       "      <td>American</td>\n",
       "      <td>Male</td>\n",
       "      <td>1941</td>\n",
       "      <td>0</td>\n",
       "      <td>None</td>\n",
       "      <td>NaN</td>\n",
       "    </tr>\n",
       "    <tr>\n",
       "      <th>3</th>\n",
       "      <td>4</td>\n",
       "      <td>Charles Arnoldi</td>\n",
       "      <td>American, born 1946</td>\n",
       "      <td>American</td>\n",
       "      <td>Male</td>\n",
       "      <td>1946</td>\n",
       "      <td>0</td>\n",
       "      <td>Q1063584</td>\n",
       "      <td>500027998.0</td>\n",
       "    </tr>\n",
       "    <tr>\n",
       "      <th>4</th>\n",
       "      <td>5</td>\n",
       "      <td>Per Arnoldi</td>\n",
       "      <td>Danish, born 1941</td>\n",
       "      <td>Danish</td>\n",
       "      <td>Male</td>\n",
       "      <td>1941</td>\n",
       "      <td>0</td>\n",
       "      <td>None</td>\n",
       "      <td>NaN</td>\n",
       "    </tr>\n",
       "  </tbody>\n",
       "</table>\n",
       "</div>"
      ],
      "text/plain": [
       "   ConstituentID      DisplayName            ArtistBio Nationality Gender  \\\n",
       "0              1   Robert Arneson  American, 1930–1992    American   Male   \n",
       "1              2   Doroteo Arnaiz   Spanish, born 1936     Spanish   Male   \n",
       "2              3      Bill Arnold  American, born 1941    American   Male   \n",
       "3              4  Charles Arnoldi  American, born 1946    American   Male   \n",
       "4              5      Per Arnoldi    Danish, born 1941      Danish   Male   \n",
       "\n",
       "   BeginDate  EndDate  Wiki QID         ULAN  \n",
       "0       1930     1992      None          NaN  \n",
       "1       1936        0      None          NaN  \n",
       "2       1941        0      None          NaN  \n",
       "3       1946        0  Q1063584  500027998.0  \n",
       "4       1941        0      None          NaN  "
      ]
     },
     "execution_count": 6,
     "metadata": {},
     "output_type": "execute_result"
    }
   ],
   "source": [
    "json_url = \"https://github.com/MuseumofModernArt/collection/raw/master/Artists.json\"\n",
    "artists =  pd.read_json(json_url)\n",
    "artists.head()"
   ]
  },
  {
   "cell_type": "markdown",
   "metadata": {
    "slideshow": {
     "slide_type": "slide"
    }
   },
   "source": [
    "## <font color=\"red\"> Exercise 2.1.2 </font>\n",
    "    \n",
    "Use tab-completion and `help` to discover and explore two more methods of reading a file into a `Pandas` dataframe.\n"
   ]
  },
  {
   "cell_type": "code",
   "execution_count": 2,
   "metadata": {
    "slideshow": {
     "slide_type": "fragment"
    }
   },
   "outputs": [
    {
     "data": {
      "text/plain": [
       "<function pandas.io.clipboards.read_clipboard(sep: 'str' = '\\\\s+', **kwargs)>"
      ]
     },
     "execution_count": 2,
     "metadata": {},
     "output_type": "execute_result"
    }
   ],
   "source": [
    "pd.read_clipboard#<-- Tab here"
   ]
  },
  {
   "cell_type": "markdown",
   "metadata": {},
   "source": [
    "> Discuss what you found here"
   ]
  },
  {
   "cell_type": "markdown",
   "metadata": {
    "slideshow": {
     "slide_type": "slide"
    }
   },
   "source": [
    "## <font color=\"red\"> Exercise 2.1.2 </font>\n",
    "    \n",
    "Read in the `Artwork.csv` from [https://github.com/MuseumofModernArt/collection](https://github.com/MuseumofModernArt/collection) and display the head of the resulting dataframe.\n"
   ]
  },
  {
   "cell_type": "code",
   "execution_count": null,
   "metadata": {
    "slideshow": {
     "slide_type": "fragment"
    }
   },
   "outputs": [],
   "source": [
    "# Your code here"
   ]
  },
  {
   "cell_type": "markdown",
   "metadata": {
    "slideshow": {
     "slide_type": "slide"
    }
   },
   "source": [
    "## So what is a `DateFrame`\n",
    "\n",
    "* Like R, Pandas focuses on columns\n",
    "* Think `dict` of `(str, Series)` pairs \n",
    "* A series is a typed list-like structure"
   ]
  },
  {
   "cell_type": "code",
   "execution_count": 8,
   "metadata": {
    "scrolled": true,
    "slideshow": {
     "slide_type": "fragment"
    }
   },
   "outputs": [],
   "source": [
    "# This is how I imagine a dataframe\n",
    "df = pd.DataFrame({\"Names\": [\"Iverson\", \"Malone\", \"Bergen\"],\n",
    "                   \"Python_mastery\": [10, 5, 1.0],\n",
    "                   \"years_at_wsu\": [4.5, 17.5, 5.5]})"
   ]
  },
  {
   "cell_type": "code",
   "execution_count": 9,
   "metadata": {},
   "outputs": [
    {
     "data": {
      "text/plain": [
       "pandas.core.frame.DataFrame"
      ]
     },
     "execution_count": 9,
     "metadata": {},
     "output_type": "execute_result"
    }
   ],
   "source": [
    "type(df)"
   ]
  },
  {
   "cell_type": "markdown",
   "metadata": {
    "slideshow": {
     "slide_type": "slide"
    }
   },
   "source": [
    "## Columns are `Series` and hold one type of data"
   ]
  },
  {
   "cell_type": "code",
   "execution_count": 10,
   "metadata": {
    "slideshow": {
     "slide_type": "fragment"
    }
   },
   "outputs": [
    {
     "data": {
      "text/plain": [
       "(pandas.core.series.Series, pandas.core.series.Series)"
      ]
     },
     "execution_count": 10,
     "metadata": {},
     "output_type": "execute_result"
    }
   ],
   "source": [
    "type(artists.BeginDate), type(artists.DisplayName)"
   ]
  },
  {
   "cell_type": "code",
   "execution_count": 11,
   "metadata": {
    "slideshow": {
     "slide_type": "fragment"
    }
   },
   "outputs": [
    {
     "data": {
      "text/plain": [
       "(dtype('int64'), dtype('O'))"
      ]
     },
     "execution_count": 11,
     "metadata": {},
     "output_type": "execute_result"
    }
   ],
   "source": [
    "artists.BeginDate.dtype, artists.DisplayName.dtype"
   ]
  },
  {
   "cell_type": "markdown",
   "metadata": {
    "slideshow": {
     "slide_type": "slide"
    }
   },
   "source": [
    "## Two ways to access a column\n",
    "\n",
    "* **Method 1:** like a dictionary\n",
    "    * `df[\"column_name\"]`\n",
    "* **Method 2:** like an object attribute\n",
    "    * `df.column_name`\n",
    "    * Only for proper names!"
   ]
  },
  {
   "cell_type": "code",
   "execution_count": 12,
   "metadata": {
    "slideshow": {
     "slide_type": "fragment"
    }
   },
   "outputs": [
    {
     "data": {
      "text/plain": [
       "0    1930\n",
       "1    1936\n",
       "Name: BeginDate, dtype: int64"
      ]
     },
     "execution_count": 12,
     "metadata": {},
     "output_type": "execute_result"
    }
   ],
   "source": [
    "artists.BeginDate.head(2)"
   ]
  },
  {
   "cell_type": "code",
   "execution_count": 13,
   "metadata": {
    "scrolled": true,
    "slideshow": {
     "slide_type": "fragment"
    }
   },
   "outputs": [
    {
     "data": {
      "text/plain": [
       "0    1930\n",
       "1    1936\n",
       "Name: BeginDate, dtype: int64"
      ]
     },
     "execution_count": 13,
     "metadata": {},
     "output_type": "execute_result"
    }
   ],
   "source": [
    "artists['BeginDate'].head(2)"
   ]
  },
  {
   "cell_type": "markdown",
   "metadata": {
    "slideshow": {
     "slide_type": "slide"
    }
   },
   "source": [
    "## More on data types\n",
    "\n",
    "* See all data types with `df.dtypes`\n",
    "* You can set the `dtypes` when you read a dataframe\n",
    "* Read more about types: [Pandas docs](https://pandas.pydata.org/pandas-docs/stable/generated/pandas.DataFrame.dtypes.html)"
   ]
  },
  {
   "cell_type": "code",
   "execution_count": 14,
   "metadata": {
    "scrolled": true,
    "slideshow": {
     "slide_type": "fragment"
    }
   },
   "outputs": [
    {
     "data": {
      "text/plain": [
       "ConstituentID      int64\n",
       "DisplayName       object\n",
       "ArtistBio         object\n",
       "Nationality       object\n",
       "Gender            object\n",
       "BeginDate          int64\n",
       "EndDate            int64\n",
       "Wiki QID          object\n",
       "ULAN             float64\n",
       "dtype: object"
      ]
     },
     "execution_count": 14,
     "metadata": {},
     "output_type": "execute_result"
    }
   ],
   "source": [
    "artists.dtypes"
   ]
  },
  {
   "cell_type": "markdown",
   "metadata": {},
   "source": [
    "## Setting `dtypes` with `read_csv`\n",
    "\n",
    "We can pass a `dict` of types to `dtype` keyword"
   ]
  },
  {
   "cell_type": "code",
   "execution_count": 15,
   "metadata": {},
   "outputs": [
    {
     "data": {
      "text/html": [
       "<div>\n",
       "<style scoped>\n",
       "    .dataframe tbody tr th:only-of-type {\n",
       "        vertical-align: middle;\n",
       "    }\n",
       "\n",
       "    .dataframe tbody tr th {\n",
       "        vertical-align: top;\n",
       "    }\n",
       "\n",
       "    .dataframe thead th {\n",
       "        text-align: right;\n",
       "    }\n",
       "</style>\n",
       "<table border=\"1\" class=\"dataframe\">\n",
       "  <thead>\n",
       "    <tr style=\"text-align: right;\">\n",
       "      <th></th>\n",
       "      <th>ConstituentID</th>\n",
       "      <th>DisplayName</th>\n",
       "      <th>ArtistBio</th>\n",
       "      <th>Nationality</th>\n",
       "      <th>Gender</th>\n",
       "      <th>BeginDate</th>\n",
       "      <th>EndDate</th>\n",
       "      <th>Wiki QID</th>\n",
       "      <th>ULAN</th>\n",
       "    </tr>\n",
       "  </thead>\n",
       "  <tbody>\n",
       "    <tr>\n",
       "      <th>0</th>\n",
       "      <td>1</td>\n",
       "      <td>Robert Arneson</td>\n",
       "      <td>American, 1930–1992</td>\n",
       "      <td>American</td>\n",
       "      <td>Male</td>\n",
       "      <td>1930</td>\n",
       "      <td>1992</td>\n",
       "      <td>NaN</td>\n",
       "      <td>&lt;NA&gt;</td>\n",
       "    </tr>\n",
       "    <tr>\n",
       "      <th>1</th>\n",
       "      <td>2</td>\n",
       "      <td>Doroteo Arnaiz</td>\n",
       "      <td>Spanish, born 1936</td>\n",
       "      <td>Spanish</td>\n",
       "      <td>Male</td>\n",
       "      <td>1936</td>\n",
       "      <td>0</td>\n",
       "      <td>NaN</td>\n",
       "      <td>&lt;NA&gt;</td>\n",
       "    </tr>\n",
       "    <tr>\n",
       "      <th>2</th>\n",
       "      <td>3</td>\n",
       "      <td>Bill Arnold</td>\n",
       "      <td>American, born 1941</td>\n",
       "      <td>American</td>\n",
       "      <td>Male</td>\n",
       "      <td>1941</td>\n",
       "      <td>0</td>\n",
       "      <td>NaN</td>\n",
       "      <td>&lt;NA&gt;</td>\n",
       "    </tr>\n",
       "    <tr>\n",
       "      <th>3</th>\n",
       "      <td>4</td>\n",
       "      <td>Charles Arnoldi</td>\n",
       "      <td>American, born 1946</td>\n",
       "      <td>American</td>\n",
       "      <td>Male</td>\n",
       "      <td>1946</td>\n",
       "      <td>0</td>\n",
       "      <td>Q1063584</td>\n",
       "      <td>500027998</td>\n",
       "    </tr>\n",
       "    <tr>\n",
       "      <th>4</th>\n",
       "      <td>5</td>\n",
       "      <td>Per Arnoldi</td>\n",
       "      <td>Danish, born 1941</td>\n",
       "      <td>Danish</td>\n",
       "      <td>Male</td>\n",
       "      <td>1941</td>\n",
       "      <td>0</td>\n",
       "      <td>NaN</td>\n",
       "      <td>&lt;NA&gt;</td>\n",
       "    </tr>\n",
       "  </tbody>\n",
       "</table>\n",
       "</div>"
      ],
      "text/plain": [
       "   ConstituentID      DisplayName            ArtistBio Nationality Gender  \\\n",
       "0              1   Robert Arneson  American, 1930–1992    American   Male   \n",
       "1              2   Doroteo Arnaiz   Spanish, born 1936     Spanish   Male   \n",
       "2              3      Bill Arnold  American, born 1941    American   Male   \n",
       "3              4  Charles Arnoldi  American, born 1946    American   Male   \n",
       "4              5      Per Arnoldi    Danish, born 1941      Danish   Male   \n",
       "\n",
       "   BeginDate  EndDate  Wiki QID       ULAN  \n",
       "0       1930     1992       NaN       <NA>  \n",
       "1       1936        0       NaN       <NA>  \n",
       "2       1941        0       NaN       <NA>  \n",
       "3       1946        0  Q1063584  500027998  \n",
       "4       1941        0       NaN       <NA>  "
      ]
     },
     "execution_count": 15,
     "metadata": {},
     "output_type": "execute_result"
    }
   ],
   "source": [
    "import numpy as np\n",
    "artist_types = {'ConstituentID': np.int64,\n",
    "                'DisplayName': str,\n",
    "                'ArtistBio': str,\n",
    "                'Nationality': str,\n",
    "                'Gender':str,\n",
    "                'BeginDate': np.int64,\n",
    "                'EndDate': np.int64,\n",
    "                'Wiki QID': str,\n",
    "                'ULAN':pd.Int64Dtype()} # If you get an error ==> update pandas (see below)\n",
    "artists2 = pd.read_csv('./data/artists.csv', dtype = artist_types)\n",
    "artists2.head()"
   ]
  },
  {
   "cell_type": "markdown",
   "metadata": {},
   "source": [
    "## What's up with `ULAN` ?\n",
    "\n",
    "* Currently, `numpy` $\\rightarrow$ no missing `int`s\n",
    "* Pandas correct this with the `pd.Int64Dtype()` type\n",
    "    * Only available in `pandas >= 0.24.0`"
   ]
  },
  {
   "cell_type": "code",
   "execution_count": 16,
   "metadata": {},
   "outputs": [
    {
     "data": {
      "text/plain": [
       "'1.4.2'"
      ]
     },
     "execution_count": 16,
     "metadata": {},
     "output_type": "execute_result"
    }
   ],
   "source": [
    "pd.__version__"
   ]
  },
  {
   "cell_type": "markdown",
   "metadata": {},
   "source": [
    "## An `Int` by any other name ...\n",
    "\n",
    "* `np.int64` $\\rightarrow$ no missing values\n",
    "* `pd.Int64Dtype()` $\\rightarrow$ allows `NaN`"
   ]
  },
  {
   "cell_type": "code",
   "execution_count": 17,
   "metadata": {},
   "outputs": [
    {
     "data": {
      "text/plain": [
       "ConstituentID     int64\n",
       "DisplayName      object\n",
       "ArtistBio        object\n",
       "Nationality      object\n",
       "Gender           object\n",
       "BeginDate         int64\n",
       "EndDate           int64\n",
       "Wiki QID         object\n",
       "ULAN              Int64\n",
       "dtype: object"
      ]
     },
     "execution_count": 17,
     "metadata": {},
     "output_type": "execute_result"
    }
   ],
   "source": [
    "artists2.dtypes"
   ]
  },
  {
   "cell_type": "markdown",
   "metadata": {},
   "source": [
    "## Preview of coming attractions\n",
    "\n",
    "* Now we can switch `BeginDate` and `EndDate` from `0` to `np.NaN`\n",
    "* We will do this in the next section"
   ]
  },
  {
   "cell_type": "markdown",
   "metadata": {
    "slideshow": {
     "slide_type": "slide"
    }
   },
   "source": [
    "# Getting to know your data"
   ]
  },
  {
   "cell_type": "markdown",
   "metadata": {
    "slideshow": {
     "slide_type": "slide"
    }
   },
   "source": [
    "## Basic inspection tools\n",
    "\n",
    "* `df.head()`        first five rows\n",
    "* `df.tail()`        last five rows\n",
    "* `df.sample(5)`     random sample of rows\n",
    "* `df.shape`         number of rows/columns in a tuple\n",
    "* `df.describe()`    calculates measures of central tendency\n",
    "* `df.info()`"
   ]
  },
  {
   "cell_type": "markdown",
   "metadata": {
    "slideshow": {
     "slide_type": "slide"
    }
   },
   "source": [
    "## <font color=\"red\"> Exercise 1: Inspect the artwork from MoMA </font>"
   ]
  },
  {
   "cell_type": "markdown",
   "metadata": {},
   "source": [
    "#### Read the csv and inspect the `head`"
   ]
  },
  {
   "cell_type": "code",
   "execution_count": null,
   "metadata": {
    "scrolled": true,
    "slideshow": {
     "slide_type": "slide"
    }
   },
   "outputs": [],
   "source": [
    "artwork.head()"
   ]
  },
  {
   "cell_type": "markdown",
   "metadata": {},
   "source": [
    "**Task:** Write a few sentences describing an problems"
   ]
  },
  {
   "cell_type": "markdown",
   "metadata": {},
   "source": [
    "*Your thoughts here*"
   ]
  },
  {
   "cell_type": "markdown",
   "metadata": {},
   "source": [
    "#### Inspect the column names with the `columns` attribute"
   ]
  },
  {
   "cell_type": "code",
   "execution_count": 17,
   "metadata": {},
   "outputs": [
    {
     "data": {
      "text/plain": [
       "Index(['Title', 'Artist', 'ConstituentID', 'ArtistBio', 'Nationality',\n",
       "       'BeginDate', 'EndDate', 'Gender', 'Date', 'Medium', 'Dimensions',\n",
       "       'CreditLine', 'AccessionNumber', 'Classification', 'Department',\n",
       "       'DateAcquired', 'Cataloged', 'ObjectID', 'URL', 'ThumbnailURL',\n",
       "       'Circumference (cm)', 'Depth (cm)', 'Diameter (cm)', 'Height (cm)',\n",
       "       'Length (cm)', 'Weight (kg)', 'Width (cm)', 'Seat Height (cm)',\n",
       "       'Duration (sec.)'],\n",
       "      dtype='object')"
      ]
     },
     "execution_count": 17,
     "metadata": {},
     "output_type": "execute_result"
    }
   ],
   "source": [
    "artwork.columns"
   ]
  },
  {
   "cell_type": "markdown",
   "metadata": {},
   "source": [
    "**Question:** See any problems?"
   ]
  },
  {
   "cell_type": "markdown",
   "metadata": {},
   "source": [
    "*Your thoughts here*"
   ]
  },
  {
   "cell_type": "markdown",
   "metadata": {},
   "source": [
    "#### Inspect the tail"
   ]
  },
  {
   "cell_type": "code",
   "execution_count": null,
   "metadata": {
    "scrolled": true,
    "slideshow": {
     "slide_type": "slide"
    }
   },
   "outputs": [],
   "source": [
    "artwork.tail()"
   ]
  },
  {
   "cell_type": "markdown",
   "metadata": {},
   "source": [
    "#### Check out the `shape`"
   ]
  },
  {
   "cell_type": "code",
   "execution_count": null,
   "metadata": {
    "slideshow": {
     "slide_type": "slide"
    }
   },
   "outputs": [],
   "source": [
    "artwork.shape"
   ]
  },
  {
   "cell_type": "markdown",
   "metadata": {},
   "source": [
    "**Question:** What do these number mean?"
   ]
  },
  {
   "cell_type": "markdown",
   "metadata": {},
   "source": [
    "*Your thoughts here*"
   ]
  },
  {
   "cell_type": "markdown",
   "metadata": {},
   "source": [
    "#### Use `describe` to compute statistics"
   ]
  },
  {
   "cell_type": "code",
   "execution_count": null,
   "metadata": {
    "slideshow": {
     "slide_type": "slide"
    }
   },
   "outputs": [],
   "source": [
    "artwork.describe()"
   ]
  },
  {
   "cell_type": "markdown",
   "metadata": {},
   "source": [
    "#### Use `info` to look at types and totals"
   ]
  },
  {
   "cell_type": "code",
   "execution_count": null,
   "metadata": {
    "slideshow": {
     "slide_type": "slide"
    }
   },
   "outputs": [],
   "source": [
    "artwork.info()"
   ]
  },
  {
   "cell_type": "markdown",
   "metadata": {},
   "source": [
    "**Question:** What did you learn from the last two cells?"
   ]
  },
  {
   "cell_type": "markdown",
   "metadata": {},
   "source": [
    "*Your thoughts here*"
   ]
  }
 ],
 "metadata": {
  "kernelspec": {
   "display_name": "Python 3.9.12 64-bit ('base')",
   "language": "python",
   "name": "python3"
  },
  "language_info": {
   "codemirror_mode": {
    "name": "ipython",
    "version": 3
   },
   "file_extension": ".py",
   "mimetype": "text/x-python",
   "name": "python",
   "nbconvert_exporter": "python",
   "pygments_lexer": "ipython3",
   "version": "3.9.12"
  },
  "varInspector": {
   "cols": {
    "lenName": 16,
    "lenType": 16,
    "lenVar": 40
   },
   "kernels_config": {
    "python": {
     "delete_cmd_postfix": "",
     "delete_cmd_prefix": "del ",
     "library": "var_list.py",
     "varRefreshCmd": "print(var_dic_list())"
    },
    "r": {
     "delete_cmd_postfix": ") ",
     "delete_cmd_prefix": "rm(",
     "library": "var_list.r",
     "varRefreshCmd": "cat(var_dic_list()) "
    }
   },
   "types_to_exclude": [
    "module",
    "function",
    "builtin_function_or_method",
    "instance",
    "_Feature"
   ],
   "window_display": false
  },
  "vscode": {
   "interpreter": {
    "hash": "7efe307e9f8367d825393b0fdecab26d5295c1d6bdd74831a167f6027e27a6db"
   }
  }
 },
 "nbformat": 4,
 "nbformat_minor": 2
}
